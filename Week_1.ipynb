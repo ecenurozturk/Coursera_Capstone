{
  "nbformat": 4,
  "nbformat_minor": 0,
  "metadata": {
    "colab": {
      "name": "Week_1.ipynb",
      "provenance": [],
      "collapsed_sections": [],
      "authorship_tag": "ABX9TyO8dxhomSH0xxa22be8izAY",
      "include_colab_link": true
    },
    "kernelspec": {
      "name": "python3",
      "display_name": "Python 3"
    }
  },
  "cells": [
    {
      "cell_type": "markdown",
      "metadata": {
        "id": "view-in-github",
        "colab_type": "text"
      },
      "source": [
        "<a href=\"https://colab.research.google.com/github/ecenurozturk/Coursera_Capstone/blob/master/Week_1.ipynb\" target=\"_parent\"><img src=\"https://colab.research.google.com/assets/colab-badge.svg\" alt=\"Open In Colab\"/></a>"
      ]
    },
    {
      "cell_type": "markdown",
      "metadata": {
        "id": "N5Q6ivMnjxTS",
        "colab_type": "text"
      },
      "source": [
        "### Week 1 Assignment\n",
        "\n",
        "> Capstone Project Notebook\n"
      ]
    },
    {
      "cell_type": "markdown",
      "metadata": {
        "id": "c5_a7KBnkKit",
        "colab_type": "text"
      },
      "source": [
        ""
      ]
    },
    {
      "cell_type": "markdown",
      "metadata": {
        "id": "0KvQAfCNlGOX",
        "colab_type": "text"
      },
      "source": [
        "**1-Write some markdown to explain that this notebook will be mainly used for the capstone project.**"
      ]
    },
    {
      "cell_type": "markdown",
      "metadata": {
        "id": "PnWk4_GNlfRI",
        "colab_type": "text"
      },
      "source": [
        "This notebook is mainly used for the capstone project of the course Applied Data Science Capstone on [Coursera](https://www.coursera.org/)."
      ]
    },
    {
      "cell_type": "markdown",
      "metadata": {
        "id": "rGTNyMyHlqCn",
        "colab_type": "text"
      },
      "source": [
        "**2- Import the pandas library as pd.**"
      ]
    },
    {
      "cell_type": "code",
      "metadata": {
        "id": "UZVXZCRPl14S",
        "colab_type": "code",
        "colab": {}
      },
      "source": [
        "import pandas as pd"
      ],
      "execution_count": 0,
      "outputs": []
    },
    {
      "cell_type": "markdown",
      "metadata": {
        "id": "vmnLCoLPkUx8",
        "colab_type": "text"
      },
      "source": [
        ""
      ]
    },
    {
      "cell_type": "markdown",
      "metadata": {
        "id": "UaVNXx2ml-C3",
        "colab_type": "text"
      },
      "source": [
        "**3- Import the Numpy library as np.**"
      ]
    },
    {
      "cell_type": "code",
      "metadata": {
        "id": "uM_1pUHimBJM",
        "colab_type": "code",
        "colab": {}
      },
      "source": [
        "import numpy as np"
      ],
      "execution_count": 0,
      "outputs": []
    },
    {
      "cell_type": "markdown",
      "metadata": {
        "id": "0aac4MRZmEqH",
        "colab_type": "text"
      },
      "source": [
        ""
      ]
    },
    {
      "cell_type": "markdown",
      "metadata": {
        "id": "t_m2mW2_mIQV",
        "colab_type": "text"
      },
      "source": [
        "**4- Print the following the statement: Hello Capstone Project Course!**"
      ]
    },
    {
      "cell_type": "code",
      "metadata": {
        "id": "7NzariHbmLae",
        "colab_type": "code",
        "colab": {
          "base_uri": "https://localhost:8080/",
          "height": 34
        },
        "outputId": "7af4838d-889e-42ed-cc49-a1005718624b"
      },
      "source": [
        "print('Hello Capstone Project Course!')"
      ],
      "execution_count": 4,
      "outputs": [
        {
          "output_type": "stream",
          "text": [
            "Hello Capstone Project Course!\n"
          ],
          "name": "stdout"
        }
      ]
    },
    {
      "cell_type": "code",
      "metadata": {
        "id": "ZxMvz-l8mNa6",
        "colab_type": "code",
        "colab": {}
      },
      "source": [
        ""
      ],
      "execution_count": 0,
      "outputs": []
    }
  ]
}